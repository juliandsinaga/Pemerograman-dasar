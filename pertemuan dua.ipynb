{
  "nbformat": 4,
  "nbformat_minor": 0,
  "metadata": {
    "colab": {
      "provenance": [],
      "authorship_tag": "ABX9TyPHp4YKTN7vW8qzvrgef3On",
      "include_colab_link": true
    },
    "kernelspec": {
      "name": "python3",
      "display_name": "Python 3"
    },
    "language_info": {
      "name": "python"
    }
  },
  "cells": [
    {
      "cell_type": "markdown",
      "metadata": {
        "id": "view-in-github",
        "colab_type": "text"
      },
      "source": [
        "<a href=\"https://colab.research.google.com/github/juliandsinaga/Pemerograman-dasar/blob/main/pertemuan%20dua.ipynb\" target=\"_parent\"><img src=\"https://colab.research.google.com/assets/colab-badge.svg\" alt=\"Open In Colab\"/></a>"
      ]
    },
    {
      "cell_type": "code",
      "execution_count": 1,
      "metadata": {
        "colab": {
          "base_uri": "https://localhost:8080/"
        },
        "id": "ako2eA4xosSR",
        "outputId": "8694ca16-0223-49c8-d41e-98273e091583"
      },
      "outputs": [
        {
          "output_type": "stream",
          "name": "stdout",
          "text": [
            "juliand eka\n",
            "putra sinaga\n",
            "25\n",
            "False\n"
          ]
        }
      ],
      "source": [
        "#data diri\n",
        "firstName = \"juliand eka\"\n",
        "lastName = \"putra sinaga\"\n",
        "age = 25\n",
        "isMarried = False\n",
        "\n",
        "print (firstName)\n",
        "print (lastName)\n",
        "print (age)\n",
        "print (isMarried)"
      ]
    },
    {
      "cell_type": "code",
      "source": [
        "#data diri dengan dictionary\n",
        "datadiri = {\"firstName\": \"juliand eka\", \"lastName\": \"putra sinaga\", \"age\": 25, \"isMarried\": False}\n",
        "print (datadiri)\n"
      ],
      "metadata": {
        "colab": {
          "base_uri": "https://localhost:8080/"
        },
        "id": "ISFdfVPMpNtZ",
        "outputId": "a9ba9a71-91fb-4a32-c204-b3f419eba99f"
      },
      "execution_count": 2,
      "outputs": [
        {
          "output_type": "stream",
          "name": "stdout",
          "text": [
            "{'firstName': 'juliand eka', 'lastName': 'putra sinaga', 'age': 25, 'isMarried': False}\n"
          ]
        }
      ]
    },
    {
      "cell_type": "code",
      "source": [
        "inspeksi = [\"pemahaman terhadap rencana dan desain\",\"ketersediaan bahan dan peralatan\",\"pengawasan pekerjaan\",\"kualitas konstruksi\",\"keselamatan kerja\",\"koordinasi dengan pemilik proyek\"]\n",
        "\n",
        "print (inspeksi)\n"
      ],
      "metadata": {
        "colab": {
          "base_uri": "https://localhost:8080/"
        },
        "id": "vW8TrLYwp0Iq",
        "outputId": "3bd3d42e-0042-4bed-a66d-0d10966042c4"
      },
      "execution_count": 3,
      "outputs": [
        {
          "output_type": "stream",
          "name": "stdout",
          "text": [
            "['pemahaman terhadap rencana dan desain', 'ketersediaan bahan dan peralatan', 'pengawasan pekerjaan', 'kualitas konstruksi', 'keselamatan kerja', 'koordinasi dengan pemilik proyek']\n"
          ]
        }
      ]
    },
    {
      "cell_type": "code",
      "source": [
        "# Waktu datang\n",
        "startTime = {\"HH\": 9,\"mm\": 23,\"ss\": 57}\n",
        "\n",
        "# Waktu pulang\n",
        "endTime = {\"HH\": 15,\"mm\": 25,\"ss\": 43}\n",
        "\n",
        "print (startTime)\n",
        "print (endTime)"
      ],
      "metadata": {
        "colab": {
          "base_uri": "https://localhost:8080/"
        },
        "id": "1KblsAXwqGSu",
        "outputId": "01daa708-407d-402d-eaf7-bf87d5beda5a"
      },
      "execution_count": 4,
      "outputs": [
        {
          "output_type": "stream",
          "name": "stdout",
          "text": [
            "{'HH': 9, 'mm': 23, 'ss': 57}\n",
            "{'HH': 15, 'mm': 25, 'ss': 43}\n"
          ]
        }
      ]
    },
    {
      "cell_type": "code",
      "source": [
        "# Katalog produk dari dua pemasok\n",
        "katalog_A = {\"Laptop\", \"Smartphone\", \"Tablet\", \"Headphone\"}\n",
        "katalog_B = {\"Smartwatch\", \"Tablet\", \"Laptop\", \"Kamera\"}\n",
        "\n",
        "# Daftar produk yang sedang diskon\n",
        "produk_diskon = (\"Laptop\", \"Kamera\", \"Speaker\")\n",
        "\n",
        "# 1. Gabungan katalog_A dan katalog_B\n",
        "katalog_lengkap = katalog_A.union(katalog_B)\n",
        "\n",
        "# 2. Produk yang ada di katalog_lengkap dan juga di produk_diskon\n",
        "produk_promo_aktif = katalog_lengkap.intersection(produk_diskon)\n",
        "\n",
        "print (katalog_lengkap)\n",
        "print (produk_promo_aktif)"
      ],
      "metadata": {
        "colab": {
          "base_uri": "https://localhost:8080/"
        },
        "id": "8Nu76e1mqN7d",
        "outputId": "b88fa27c-a0e3-4cfd-eb39-6078bff04a3b"
      },
      "execution_count": 5,
      "outputs": [
        {
          "output_type": "stream",
          "name": "stdout",
          "text": [
            "{'Kamera', 'Tablet', 'Laptop', 'Smartphone', 'Smartwatch', 'Headphone'}\n",
            "{'Kamera', 'Laptop'}\n"
          ]
        }
      ]
    }
  ]
}