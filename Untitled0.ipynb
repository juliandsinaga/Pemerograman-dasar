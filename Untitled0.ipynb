{
  "nbformat": 4,
  "nbformat_minor": 0,
  "metadata": {
    "colab": {
      "provenance": [],
      "authorship_tag": "ABX9TyPQ2nmSDYVvsj/7k6Bmciqf",
      "include_colab_link": true
    },
    "kernelspec": {
      "name": "python3",
      "display_name": "Python 3"
    },
    "language_info": {
      "name": "python"
    }
  },
  "cells": [
    {
      "cell_type": "markdown",
      "metadata": {
        "id": "view-in-github",
        "colab_type": "text"
      },
      "source": [
        "<a href=\"https://colab.research.google.com/github/juliandsinaga/Pemerograman-dasar/blob/main/Untitled0.ipynb\" target=\"_parent\"><img src=\"https://colab.research.google.com/assets/colab-badge.svg\" alt=\"Open In Colab\"/></a>"
      ]
    },
    {
      "cell_type": "code",
      "source": [
        "# fungsi untuk menerima input sesuai data\n",
        "total = int (input (\"berapa porsi makan yang anda beli? : \"))\n",
        "Nama = str (input (\"siapa nama pelanggan? : \"))\n",
        "\n",
        "print (total)\n",
        "print (Nama)"
      ],
      "metadata": {
        "colab": {
          "base_uri": "https://localhost:8080/"
        },
        "id": "3TkPJ24ewKi4",
        "outputId": "8f618d64-446c-41d8-e20e-a676105b787f"
      },
      "execution_count": 2,
      "outputs": [
        {
          "output_type": "stream",
          "name": "stdout",
          "text": [
            "berapa porsi makan yang anda beli? : 3\n",
            "siapa nama pelanggan? : boby\n",
            "3\n",
            "boby\n"
          ]
        }
      ]
    },
    {
      "cell_type": "code",
      "source": [
        "# merubah program menjadi tipe data float\n",
        "total = float (input (\"berapa porsi makan yang anda beli? : \"))\n",
        "Nama = str (input (\"siapa nama pelanggan? : \"))\n"
      ],
      "metadata": {
        "colab": {
          "base_uri": "https://localhost:8080/"
        },
        "id": "f3uqlR3awehZ",
        "outputId": "481da3ff-bc78-4fc7-8fb2-999982a845d4"
      },
      "execution_count": 3,
      "outputs": [
        {
          "name": "stdout",
          "output_type": "stream",
          "text": [
            "berapa porsi makan yang anda beli? : 2.5\n",
            "siapa nama pelanggan? : Jokowi\n"
          ]
        }
      ]
    },
    {
      "cell_type": "code",
      "source": [
        "food = \"mie ayam bakso\"\n",
        "\n",
        "print (\"hendi sedang memesan\", food)\n",
        "print (\"hendi sedang memesan \"+ food)\n",
        "print (\"hendi sedang memesan %s\" % (food))"
      ],
      "metadata": {
        "colab": {
          "base_uri": "https://localhost:8080/"
        },
        "id": "ShQTmHI-wotw",
        "outputId": "372d8fb9-8b77-41bc-e5aa-37fb35e751c8"
      },
      "execution_count": 4,
      "outputs": [
        {
          "output_type": "stream",
          "name": "stdout",
          "text": [
            "hendi sedang memesan mie ayam bakso\n",
            "hendi sedang memesan mie ayam bakso\n",
            "hendi sedang memesan mie ayam bakso\n"
          ]
        }
      ]
    },
    {
      "cell_type": "code",
      "source": [
        "#kalkulator sederhana\n",
        "\n",
        "a = 30\n",
        "b = 5\n",
        "\n",
        "print (\"penjumlahan\", a + b)\n",
        "print (\"pengurangan\", a - b)\n",
        "print (\"perkalian\", a * b)\n",
        "print (\"pembagian\", a / b)"
      ],
      "metadata": {
        "colab": {
          "base_uri": "https://localhost:8080/"
        },
        "id": "3WWG8fDcw1A3",
        "outputId": "eb011f8d-0cb8-4b19-9fdc-ebc8767dcf48"
      },
      "execution_count": 5,
      "outputs": [
        {
          "output_type": "stream",
          "name": "stdout",
          "text": [
            "penjumlahan 35\n",
            "pengurangan 25\n",
            "perkalian 150\n",
            "pembagian 6.0\n"
          ]
        }
      ]
    },
    {
      "cell_type": "code",
      "source": [
        "#kalkulator kasir\n",
        "\n",
        "harga_makan = int(input(\"berapa harga mie ayam per porsi? \"))\n",
        "jumlah_makan = int (input(\"berapa porsi yang dibeli? \"))\n",
        "total_makan = harga_makan * jumlah_makan\n",
        "\n",
        "print (f\"harga makan per porsi = {harga_makan}, totalnya adalah {total_makan}\")"
      ],
      "metadata": {
        "colab": {
          "base_uri": "https://localhost:8080/"
        },
        "id": "aD-ru7n5w3np",
        "outputId": "0d1e2465-32f2-496a-9008-e4e13cda1faf"
      },
      "execution_count": 6,
      "outputs": [
        {
          "output_type": "stream",
          "name": "stdout",
          "text": [
            "berapa harga mie ayam per porsi? 18000\n",
            "berapa porsi yang dibeli? 5\n",
            "harga makan per porsi = 18000, totalnya adalah 90000\n"
          ]
        }
      ]
    },
    {
      "cell_type": "code",
      "source": [
        "bilangan = 10\n",
        "hasil = (bilangan > 0) and (bilangan % 2 == 0)\n",
        "print (\"genap dan positif?\", hasil)\n"
      ],
      "metadata": {
        "colab": {
          "base_uri": "https://localhost:8080/"
        },
        "id": "MX9N5TroxArQ",
        "outputId": "b02fa670-a684-4e81-bd0b-263186e85067"
      },
      "execution_count": 7,
      "outputs": [
        {
          "output_type": "stream",
          "name": "stdout",
          "text": [
            "genap dan positif? True\n"
          ]
        }
      ]
    },
    {
      "cell_type": "code",
      "source": [
        "#konversi waktu\n",
        "\n",
        "total_detik = int(input(\"Masukkan total_detik: \"))\n",
        "\n",
        "jam = total_detik // 3600\n",
        "sisa_detik = total_detik % 3600\n",
        "menit = sisa_detik // 60\n",
        "detik = sisa_detik % 60\n",
        "\n",
        "print (f\"hasil konversi: {jam} Jam, {menit} Menit, {detik} Detik\")"
      ],
      "metadata": {
        "colab": {
          "base_uri": "https://localhost:8080/"
        },
        "id": "DTnJx4fTxKHT",
        "outputId": "ab056222-0a6e-409b-deeb-6918574a5526"
      },
      "execution_count": 8,
      "outputs": [
        {
          "output_type": "stream",
          "name": "stdout",
          "text": [
            "Masukkan total_detik: 358200\n",
            "hasil konversi: 99 Jam, 30 Menit, 0 Detik\n"
          ]
        }
      ]
    },
    {
      "cell_type": "code",
      "source": [
        "tugas = float(input(\"Masukkan nilai Tugas: \"))\n",
        "uts = float(input(\"Masukkan nilai UTS: \"))\n",
        "uas = float(input(\"Masukkan nilai UAS: \"))\n",
        "\n",
        "standar_kelulusan = float(input(\"Masukkan standar kelulusan: \"))\n",
        "nilai_mahasiswa = (0.3 * tugas) + (0.3 * uts) + (0.4 * uas)\n",
        "\n",
        "# Tentukan status kelulusan\n",
        "apakah_lulus = nilai_mahasiswa >= standar_kelulusan\n",
        "perlu_remedial = nilai_mahasiswa < standar_kelulusan\n",
        "\n",
        "# Output hasil\n",
        "print(\"\\n=== Hasil Penilaian ===\")\n",
        "print(f\"Nilai Mahasiswa: {nilai_mahasiswa}\")\n",
        "print(f\"Standar Kelulusan: {standar_kelulusan}\")\n",
        "print(f\"Apakah Mahasiswa Lulus? {apakah_lulus}\")\n",
        "print(f\"Perlu Remedial? {perlu_remedial}\")"
      ],
      "metadata": {
        "colab": {
          "base_uri": "https://localhost:8080/"
        },
        "id": "qmILqYArxPQy",
        "outputId": "a42ec87c-36fc-4b0f-8195-cbddd94c8135"
      },
      "execution_count": 9,
      "outputs": [
        {
          "output_type": "stream",
          "name": "stdout",
          "text": [
            "Masukkan nilai Tugas: 88\n",
            "Masukkan nilai UTS: 87\n",
            "Masukkan nilai UAS: 88\n",
            "Masukkan standar kelulusan: 70\n",
            "\n",
            "=== Hasil Penilaian ===\n",
            "Nilai Mahasiswa: 87.7\n",
            "Standar Kelulusan: 70.0\n",
            "Apakah Mahasiswa Lulus? True\n",
            "Perlu Remedial? False\n"
          ]
        }
      ]
    },
    {
      "cell_type": "code",
      "source": [
        "# Input total belanja dari keyboard\n",
        "belanja = int(input(\"Masukkan total belanja: \"))\n",
        "\n",
        "# Tentukan diskon\n",
        "if belanja > 1000000:\n",
        "    diskon = 0.35 * belanja\n",
        "\n",
        "else:\n",
        "    diskon = 0  # tidak ada diskon jika <= 1 juta\n",
        "\n",
        "# Hitung total harga\n",
        "total_harga = belanja - diskon\n",
        "\n",
        "# Output hasil\n",
        "print(f\"Total belanja: Rp {belanja}\")\n",
        "print(f\"Diskon: Rp {diskon}\")\n",
        "print(f\"Total harga setelah diskon = Rp {total_harga}\")"
      ],
      "metadata": {
        "colab": {
          "base_uri": "https://localhost:8080/"
        },
        "id": "pInT_dvmxdb8",
        "outputId": "1d1903e2-392a-451d-f395-6841d559ab7d"
      },
      "execution_count": 10,
      "outputs": [
        {
          "output_type": "stream",
          "name": "stdout",
          "text": [
            "Masukkan total belanja: 2500000\n",
            "Total belanja: Rp 2500000\n",
            "Diskon: Rp 875000.0\n",
            "Total harga setelah diskon = Rp 1625000.0\n"
          ]
        }
      ]
    }
  ]
}