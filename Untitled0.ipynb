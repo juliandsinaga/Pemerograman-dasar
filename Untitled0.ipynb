{
  "nbformat": 4,
  "nbformat_minor": 0,
  "metadata": {
    "colab": {
      "provenance": [],
      "authorship_tag": "ABX9TyOZgK6mLvyTUQem1QY8APSW",
      "include_colab_link": true
    },
    "kernelspec": {
      "name": "python3",
      "display_name": "Python 3"
    },
    "language_info": {
      "name": "python"
    }
  },
  "cells": [
    {
      "cell_type": "markdown",
      "metadata": {
        "id": "view-in-github",
        "colab_type": "text"
      },
      "source": [
        "<a href=\"https://colab.research.google.com/github/juliandsinaga/Pemerograman-dasar/blob/main/Untitled0.ipynb\" target=\"_parent\"><img src=\"https://colab.research.google.com/assets/colab-badge.svg\" alt=\"Open In Colab\"/></a>"
      ]
    },
    {
      "cell_type": "code",
      "execution_count": null,
      "metadata": {
        "colab": {
          "base_uri": "https://localhost:8080/"
        },
        "id": "ako2eA4xosSR",
        "outputId": "8694ca16-0223-49c8-d41e-98273e091583"
      },
      "outputs": [
        {
          "output_type": "stream",
          "name": "stdout",
          "text": [
            "juliand eka\n",
            "putra sinaga\n",
            "25\n",
            "False\n"
          ]
        }
      ],
      "source": [
        "#data diri\n",
        "firstName = \"juliand eka\"\n",
        "lastName = \"putra sinaga\"\n",
        "age = 25\n",
        "isMarried = False\n",
        "\n",
        "print (firstName)\n",
        "print (lastName)\n",
        "print (age)\n",
        "print (isMarried)"
      ]
    },
    {
      "cell_type": "code",
      "source": [
        "#data diri dengan dictionary\n",
        "datadiri = {\"firstName\": \"juliand eka\", \"lastName\": \"putra sinaga\", \"age\": 25, \"isMarried\": False}\n",
        "print (datadiri)\n"
      ],
      "metadata": {
        "colab": {
          "base_uri": "https://localhost:8080/"
        },
        "id": "ISFdfVPMpNtZ",
        "outputId": "a9ba9a71-91fb-4a32-c204-b3f419eba99f"
      },
      "execution_count": null,
      "outputs": [
        {
          "output_type": "stream",
          "name": "stdout",
          "text": [
            "{'firstName': 'juliand eka', 'lastName': 'putra sinaga', 'age': 25, 'isMarried': False}\n"
          ]
        }
      ]
    },
    {
      "cell_type": "code",
      "source": [
        "inspeksi = [\"pemahaman terhadap rencana dan desain\",\"ketersediaan bahan dan peralatan\",\"pengawasan pekerjaan\",\"kualitas konstruksi\",\"keselamatan kerja\",\"koordinasi dengan pemilik proyek\"]\n",
        "\n",
        "print (inspeksi)\n"
      ],
      "metadata": {
        "colab": {
          "base_uri": "https://localhost:8080/"
        },
        "id": "vW8TrLYwp0Iq",
        "outputId": "3bd3d42e-0042-4bed-a66d-0d10966042c4"
      },
      "execution_count": null,
      "outputs": [
        {
          "output_type": "stream",
          "name": "stdout",
          "text": [
            "['pemahaman terhadap rencana dan desain', 'ketersediaan bahan dan peralatan', 'pengawasan pekerjaan', 'kualitas konstruksi', 'keselamatan kerja', 'koordinasi dengan pemilik proyek']\n"
          ]
        }
      ]
    },
    {
      "cell_type": "code",
      "source": [
        "# Waktu datang\n",
        "startTime = {\"HH\": 9,\"mm\": 23,\"ss\": 57}\n",
        "\n",
        "# Waktu pulang\n",
        "endTime = {\"HH\": 15,\"mm\": 25,\"ss\": 43}\n",
        "\n",
        "print (startTime)\n",
        "print (endTime)"
      ],
      "metadata": {
        "colab": {
          "base_uri": "https://localhost:8080/"
        },
        "id": "1KblsAXwqGSu",
        "outputId": "01daa708-407d-402d-eaf7-bf87d5beda5a"
      },
      "execution_count": null,
      "outputs": [
        {
          "output_type": "stream",
          "name": "stdout",
          "text": [
            "{'HH': 9, 'mm': 23, 'ss': 57}\n",
            "{'HH': 15, 'mm': 25, 'ss': 43}\n"
          ]
        }
      ]
    },
    {
      "cell_type": "code",
      "source": [
        "# Katalog produk dari dua pemasok\n",
        "katalog_A = {\"Laptop\", \"Smartphone\", \"Tablet\", \"Headphone\"}\n",
        "katalog_B = {\"Smartwatch\", \"Tablet\", \"Laptop\", \"Kamera\"}\n",
        "\n",
        "# Daftar produk yang sedang diskon\n",
        "produk_diskon = (\"Laptop\", \"Kamera\", \"Speaker\")\n",
        "\n",
        "# 1. Gabungan katalog_A dan katalog_B\n",
        "katalog_lengkap = katalog_A.union(katalog_B)\n",
        "\n",
        "# 2. Produk yang ada di katalog_lengkap dan juga di produk_diskon\n",
        "produk_promo_aktif = katalog_lengkap.intersection(produk_diskon)\n",
        "\n",
        "print (katalog_lengkap)\n",
        "print (produk_promo_aktif)"
      ],
      "metadata": {
        "id": "8Nu76e1mqN7d",
        "outputId": "b88fa27c-a0e3-4cfd-eb39-6078bff04a3b",
        "colab": {
          "base_uri": "https://localhost:8080/"
        }
      },
      "execution_count": null,
      "outputs": [
        {
          "output_type": "stream",
          "name": "stdout",
          "text": [
            "{'Kamera', 'Tablet', 'Laptop', 'Smartphone', 'Smartwatch', 'Headphone'}\n",
            "{'Kamera', 'Laptop'}\n"
          ]
        }
      ]
    },
    {
      "cell_type": "code",
      "source": [
        "total = float(input(\"Berapa porsi makan yang Anda beli? : \"))\n",
        "Nama  = str(input(\"Siapa Nama Pelanggan ? : \"))"
      ],
      "metadata": {
        "colab": {
          "base_uri": "https://localhost:8080/"
        },
        "id": "zZrShr42K-T3",
        "outputId": "0abda494-2528-418a-d73d-ec976a3f8834"
      },
      "execution_count": 2,
      "outputs": [
        {
          "name": "stdout",
          "output_type": "stream",
          "text": [
            "Berapa porsi makan yang Anda beli? : 3.7\n",
            "Siapa Nama Pelanggan ? : juliand\n"
          ]
        }
      ]
    },
    {
      "cell_type": "code",
      "source": [
        "food = \"mi ayam bakso\"\n",
        "print(\"juliand sedang memesan\", food)\n",
        "print(\"juliand sedang memesan\"+ food)\n",
        "print(\"juliand sedang memesan %s\" % food)"
      ],
      "metadata": {
        "colab": {
          "base_uri": "https://localhost:8080/"
        },
        "id": "uBzz-3ydL2tU",
        "outputId": "2c69322e-eecd-49ae-a857-07be2e047a27"
      },
      "execution_count": 9,
      "outputs": [
        {
          "output_type": "stream",
          "name": "stdout",
          "text": [
            "juliand sedang memesan mi ayam bakso\n",
            "juliand sedang memesanmi ayam bakso\n",
            "juliand sedang memesan mi ayam bakso\n"
          ]
        }
      ]
    },
    {
      "cell_type": "code",
      "source": [
        "harga_makan = float(input(\"Berapa harga mi ayam per porsi? \"))\n",
        "jumlah_makan = float(input(\"Berapa porsi yang Anda beli? \"))\n",
        "total_makan = harga_makan * jumlah_makan\n",
        "\n",
        "print(f\"Harga makan per porsi = {harga_makan}, totalnya adalah {total_makan}\")"
      ],
      "metadata": {
        "colab": {
          "base_uri": "https://localhost:8080/"
        },
        "id": "Fjf2GO2xNaRY",
        "outputId": "ba9c7c7a-131b-43ee-9cd7-c0de7bffd423"
      },
      "execution_count": 10,
      "outputs": [
        {
          "output_type": "stream",
          "name": "stdout",
          "text": [
            "Berapa harga mi ayam per porsi? 10.000\n",
            "Berapa porsi yang Anda beli? 3.7\n",
            "Harga makan per porsi = 10.0, totalnya adalah 37.0\n"
          ]
        }
      ]
    }
  ]
}