{
  "nbformat": 4,
  "nbformat_minor": 0,
  "metadata": {
    "colab": {
      "provenance": [],
      "authorship_tag": "ABX9TyNHEDgG/5Yy8OB075PUjb+Z",
      "include_colab_link": true
    },
    "kernelspec": {
      "name": "python3",
      "display_name": "Python 3"
    },
    "language_info": {
      "name": "python"
    }
  },
  "cells": [
    {
      "cell_type": "markdown",
      "metadata": {
        "id": "view-in-github",
        "colab_type": "text"
      },
      "source": [
        "<a href=\"https://colab.research.google.com/github/juliandsinaga/Pemerograman-dasar/blob/main/Tugas3.ipynb\" target=\"_parent\"><img src=\"https://colab.research.google.com/assets/colab-badge.svg\" alt=\"Open In Colab\"/></a>"
      ]
    },
    {
      "cell_type": "code",
      "execution_count": 1,
      "metadata": {
        "colab": {
          "base_uri": "https://localhost:8080/"
        },
        "id": "o2oQ7WmuzORD",
        "outputId": "981056eb-62e4-4778-f200-4a806e2a108c"
      },
      "outputs": [
        {
          "output_type": "stream",
          "name": "stdout",
          "text": [
            "===== Struk Belanja =====\n",
            "Subtotal           : Rp 110,000\n",
            "Diskon             : Rp 16,500\n",
            "Harga setelah diskon: Rp 93,500\n",
            "PPN (11%)          : Rp 10,285\n",
            "Total Akhir        : Rp 103,785\n"
          ]
        }
      ],
      "source": [
        "# Program Kasir Sederhana\n",
        "def main():\n",
        "    items = [35000, 25000, 50000]\n",
        "    member = True\n",
        "    subtotal = sum(items)\n",
        "    if member and subtotal > 100000:\n",
        "        diskon = 0.15 * subtotal\n",
        "    else:\n",
        "        diskon = 0\n",
        "    harga_setelah_diskon = subtotal - diskon\n",
        "    ppn = 0.11 * harga_setelah_diskon\n",
        "    total_akhir = harga_setelah_diskon + ppn\n",
        "\n",
        "    print(\"===== Struk Belanja =====\")\n",
        "    print(f\"Subtotal           : Rp {subtotal:,.0f}\")\n",
        "    print(f\"Diskon             : Rp {diskon:,.0f}\")\n",
        "    print(f\"Harga setelah diskon: Rp {harga_setelah_diskon:,.0f}\")\n",
        "    print(f\"PPN (11%)          : Rp {ppn:,.0f}\")\n",
        "    print(f\"Total Akhir        : Rp {total_akhir:,.0f}\")\n",
        "\n",
        "# Jalankan program\n",
        "main()"
      ]
    }
  ]
}